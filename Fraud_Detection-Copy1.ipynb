{
 "cells": [
  {
   "cell_type": "code",
   "execution_count": 8,
   "metadata": {
    "colab": {
     "base_uri": "https://localhost:8080/",
     "height": 53
    },
    "colab_type": "code",
    "id": "w1hDk9hDvOH7",
    "outputId": "e0187c64-5c21-40fc-b60f-008db40a7d3c"
   },
   "outputs": [],
   "source": [
    "import pandas as pd\n",
    "from sklearn.preprocessing import label_binarize\n",
    "import numpy as np\n",
    "from sklearn.model_selection import train_test_split\n",
    "from sklearn.ensemble import RandomForestClassifier\n",
    "from sklearn.tree import DecisionTreeClassifier\n",
    "\n",
    "from sklearn.model_selection import GridSearchCV\n",
    "from sklearn.model_selection import RandomizedSearchCV\n",
    "from sklearn.model_selection import cross_val_score\n",
    "\n",
    "from sklearn.metrics import classification_report, confusion_matrix\n",
    "from sklearn.ensemble import GradientBoostingClassifier\n",
    "from sklearn.preprocessing import OneHotEncoder\n",
    "from sklearn import metrics \n",
    "\n",
    "import warnings\n",
    "warnings.filterwarnings(\"ignore\")\n",
    "#Please ignore the warnings with version change\n",
    "\n",
    "\n"
   ]
  },
  {
   "cell_type": "code",
   "execution_count": 9,
   "metadata": {},
   "outputs": [],
   "source": [
    "import os\n",
    "os.chdir(r'C:\\Users\\vivek\\Documents\\I_Assignment2\\Fraud_Detection')\n",
    "# print(os.getcwd())\n",
    "# print(os.listdir( ))"
   ]
  },
  {
   "cell_type": "code",
   "execution_count": 10,
   "metadata": {
    "colab": {
     "base_uri": "https://localhost:8080/",
     "height": 53
    },
    "colab_type": "code",
    "id": "BMwGQK7KAd7T",
    "outputId": "15ec0520-0dc1-46ee-92d6-06d4e7cf9b9b"
   },
   "outputs": [
    {
     "name": "stdout",
     "output_type": "stream",
     "text": [
      "(2999, 32)\n",
      "(12918, 32)\n"
     ]
    }
   ],
   "source": [
    "trainfile = 'Insurance_Fraud_TRAIN_3000.csv'\n",
    "trainData = pd.read_csv(trainfile) #creates a dataframe from Train Data csv\n",
    "testfile = 'Insurance_Fraud_TEST_12900.csv'\n",
    "testData = pd.read_csv(testfile)  #creates a dataframe from Test Data csv\n",
    "\n",
    "\n",
    "print(trainData.shape)\n",
    "print(testData.shape)"
   ]
  },
  {
   "cell_type": "code",
   "execution_count": 11,
   "metadata": {
    "colab": {
     "base_uri": "https://localhost:8080/",
     "height": 326
    },
    "colab_type": "code",
    "id": "yeAborUUmG6l",
    "outputId": "b4a5a0e5-41d6-4389-da79-e5868a26135a"
   },
   "outputs": [
    {
     "name": "stdout",
     "output_type": "stream",
     "text": [
      "<class 'pandas.core.frame.DataFrame'>\n",
      "RangeIndex: 2999 entries, 0 to 2998\n",
      "Data columns (total 32 columns):\n",
      " #   Column                Non-Null Count  Dtype \n",
      "---  ------                --------------  ----- \n",
      " 0   MONTH                 2999 non-null   object\n",
      " 1   WEEKOFMONTH           2999 non-null   int64 \n",
      " 2   DAYOFWEEK             2999 non-null   object\n",
      " 3   MAKE                  2999 non-null   object\n",
      " 4   ACCIDENTAREA          2999 non-null   object\n",
      " 5   DAYOFWEEKCLAIMED      2999 non-null   object\n",
      " 6   MONTHCLAIMED          2999 non-null   object\n",
      " 7   WEEKOFMONTHCLAIMED    2999 non-null   int64 \n",
      " 8   SEX                   2999 non-null   object\n",
      " 9   MARITALSTATUS         2999 non-null   object\n",
      " 10  AGE                   2999 non-null   int64 \n",
      " 11  FAULT                 2999 non-null   object\n",
      " 12  POLICYTYPE            2999 non-null   object\n",
      " 13  VEHICLECATEGORY       2999 non-null   object\n",
      " 14  VEHICLEPRICE          2999 non-null   object\n",
      " 15  REPNUMBER             2999 non-null   int64 \n",
      " 16  DEDUCTIBLE            2999 non-null   int64 \n",
      " 17  DRIVERRATING          2999 non-null   int64 \n",
      " 18  DAYS_POLICY_ACCIDENT  2999 non-null   object\n",
      " 19  DAYS_POLICY_CLAIM     2999 non-null   object\n",
      " 20  PASTNUMBEROFCLAIMS    2999 non-null   object\n",
      " 21  AGEOFVEHICLE          2999 non-null   object\n",
      " 22  AGEOFPOLICYHOLDER     2999 non-null   object\n",
      " 23  POLICEREPORTFILED     2999 non-null   object\n",
      " 24  WITNESSPRESENT        2999 non-null   object\n",
      " 25  AGENTTYPE             2999 non-null   object\n",
      " 26  NUMBEROFSUPPLIMENTS   2999 non-null   object\n",
      " 27  ADDRESSCHANGE_CLAIM   2999 non-null   object\n",
      " 28  NUMBEROFCARS          2999 non-null   object\n",
      " 29  YEAR                  2999 non-null   int64 \n",
      " 30  BASEPOLICY            2999 non-null   object\n",
      " 31  FRAUDFOUND            2999 non-null   object\n",
      "dtypes: int64(7), object(25)\n",
      "memory usage: 749.9+ KB\n"
     ]
    }
   ],
   "source": [
    "trainData.info()"
   ]
  },
  {
   "cell_type": "code",
   "execution_count": 13,
   "metadata": {
    "colab": {
     "base_uri": "https://localhost:8080/",
     "height": 326
    },
    "colab_type": "code",
    "id": "iiAqyaetmG9u",
    "outputId": "57e7ddd9-937b-4d31-8673-52bda9da46ee"
   },
   "outputs": [
    {
     "name": "stdout",
     "output_type": "stream",
     "text": [
      "<class 'pandas.core.frame.DataFrame'>\n",
      "RangeIndex: 12918 entries, 0 to 12917\n",
      "Data columns (total 32 columns):\n",
      " #   Column                Non-Null Count  Dtype \n",
      "---  ------                --------------  ----- \n",
      " 0   MONTH                 12918 non-null  object\n",
      " 1   WEEKOFMONTH           12918 non-null  int64 \n",
      " 2   DAYOFWEEK             12918 non-null  object\n",
      " 3   MAKE                  12918 non-null  object\n",
      " 4   ACCIDENTAREA          12918 non-null  object\n",
      " 5   DAYOFWEEKCLAIMED      12918 non-null  object\n",
      " 6   MONTHCLAIMED          12918 non-null  object\n",
      " 7   WEEKOFMONTHCLAIMED    12918 non-null  int64 \n",
      " 8   SEX                   12918 non-null  object\n",
      " 9   MARITALSTATUS         12918 non-null  object\n",
      " 10  AGE                   12918 non-null  int64 \n",
      " 11  FAULT                 12918 non-null  object\n",
      " 12  POLICYTYPE            12918 non-null  object\n",
      " 13  VEHICLECATEGORY       12918 non-null  object\n",
      " 14  VEHICLEPRICE          12918 non-null  object\n",
      " 15  REPNUMBER             12918 non-null  int64 \n",
      " 16  DEDUCTIBLE            12918 non-null  int64 \n",
      " 17  DRIVERRATING          12918 non-null  int64 \n",
      " 18  DAYS_POLICY_ACCIDENT  12918 non-null  object\n",
      " 19  DAYS_POLICY_CLAIM     12918 non-null  object\n",
      " 20  PASTNUMBEROFCLAIMS    12918 non-null  object\n",
      " 21  AGEOFVEHICLE          12918 non-null  object\n",
      " 22  AGEOFPOLICYHOLDER     12918 non-null  object\n",
      " 23  POLICEREPORTFILED     12918 non-null  object\n",
      " 24  WITNESSPRESENT        12918 non-null  object\n",
      " 25  AGENTTYPE             12918 non-null  object\n",
      " 26  NUMBEROFSUPPLIMENTS   12918 non-null  object\n",
      " 27  ADDRESSCHANGE_CLAIM   12918 non-null  object\n",
      " 28  NUMBEROFCARS          12918 non-null  object\n",
      " 29  YEAR                  12918 non-null  int64 \n",
      " 30  BASEPOLICY            12918 non-null  object\n",
      " 31  FRAUDFOUND            12918 non-null  object\n",
      "dtypes: int64(7), object(25)\n",
      "memory usage: 3.2+ MB\n"
     ]
    }
   ],
   "source": [
    "testData.info()"
   ]
  },
  {
   "cell_type": "code",
   "execution_count": 14,
   "metadata": {
    "colab": {
     "base_uri": "https://localhost:8080/",
     "height": 73
    },
    "colab_type": "code",
    "id": "sgRlMC3dmHAl",
    "outputId": "110c59c2-b1fe-4f4e-f94c-e6bb6453b5b2"
   },
   "outputs": [
    {
     "name": "stdout",
     "output_type": "stream",
     "text": [
      "['MONTH', 'WEEKOFMONTH', 'DAYOFWEEK', 'MAKE', 'ACCIDENTAREA', 'DAYOFWEEKCLAIMED', 'MONTHCLAIMED', 'WEEKOFMONTHCLAIMED', 'SEX', 'MARITALSTATUS', 'AGE', 'FAULT', 'POLICYTYPE', 'VEHICLECATEGORY', 'VEHICLEPRICE', 'REPNUMBER', 'DEDUCTIBLE', 'DRIVERRATING', 'DAYS_POLICY_ACCIDENT', 'DAYS_POLICY_CLAIM', 'PASTNUMBEROFCLAIMS', 'AGEOFVEHICLE', 'AGEOFPOLICYHOLDER', 'POLICEREPORTFILED', 'WITNESSPRESENT', 'AGENTTYPE', 'NUMBEROFSUPPLIMENTS', 'ADDRESSCHANGE_CLAIM', 'NUMBEROFCARS', 'YEAR', 'BASEPOLICY', 'FRAUDFOUND']\n",
      "['MONTH', 'WEEKOFMONTH', 'DAYOFWEEK', 'MAKE', 'ACCIDENTAREA', 'DAYOFWEEKCLAIMED', 'MONTHCLAIMED', 'WEEKOFMONTHCLAIMED', 'SEX', 'MARITALSTATUS', 'AGE', 'FAULT', 'POLICYTYPE', 'VEHICLECATEGORY', 'VEHICLEPRICE', 'REPNUMBER', 'DEDUCTIBLE', 'DRIVERRATING', 'DAYS_POLICY_ACCIDENT', 'DAYS_POLICY_CLAIM', 'PASTNUMBEROFCLAIMS', 'AGEOFVEHICLE', 'AGEOFPOLICYHOLDER', 'POLICEREPORTFILED', 'WITNESSPRESENT', 'AGENTTYPE', 'NUMBEROFSUPPLIMENTS', 'ADDRESSCHANGE_CLAIM', 'NUMBEROFCARS', 'YEAR', 'BASEPOLICY', 'FRAUDFOUND']\n"
     ]
    }
   ],
   "source": [
    "#To get list of names of all Columns from a dataframe\n",
    "\n",
    "TrainCols = list(trainData.columns.values)\n",
    "TestCols = list(testData.columns.values)\n",
    "print(TrainCols)\n",
    "print(TestCols)"
   ]
  },
  {
   "cell_type": "code",
   "execution_count": 15,
   "metadata": {
    "colab": {
     "base_uri": "https://localhost:8080/",
     "height": 126
    },
    "colab_type": "code",
    "id": "Zb-DiyYYmHCu",
    "outputId": "1954b8fa-9d09-42a3-b9dd-a7dfa3863dac"
   },
   "outputs": [
    {
     "name": "stdout",
     "output_type": "stream",
     "text": [
      "Train Set shape:\n",
      "(2999, 31)\n",
      "(2999, 1)\n",
      "Test Set shape:\n",
      "(12918, 31)\n",
      "(12918, 1)\n"
     ]
    }
   ],
   "source": [
    "# Seperate Target column from Train Data\n",
    "Xtrain = trainData[TrainCols[0:len(TrainCols)-1]].copy()\n",
    "Ytrain = trainData[['FRAUDFOUND']].copy()\n",
    "print(\"Train Set shape:\")\n",
    "print(Xtrain.shape)\n",
    "print(Ytrain.shape)\n",
    "Xtest = testData[TestCols[0:len(TestCols)-1]].copy()\n",
    "Ytest = testData[['FRAUDFOUND']].copy()\n",
    "print(\"Test Set shape:\")\n",
    "print(Xtest.shape)\n",
    "print(Ytest.shape)"
   ]
  },
  {
   "cell_type": "code",
   "execution_count": 16,
   "metadata": {},
   "outputs": [
    {
     "data": {
      "text/plain": [
       "No     0.866956\n",
       "Yes    0.133044\n",
       "Name: FRAUDFOUND, dtype: float64"
      ]
     },
     "execution_count": 16,
     "metadata": {},
     "output_type": "execute_result"
    }
   ],
   "source": [
    "pd.value_counts(trainData.FRAUDFOUND, normalize = True)"
   ]
  },
  {
   "cell_type": "code",
   "execution_count": 17,
   "metadata": {},
   "outputs": [
    {
     "name": "stdout",
     "output_type": "stream",
     "text": [
      "No     2600\n",
      "Yes     399\n",
      "Name: FRAUDFOUND, dtype: int64\n"
     ]
    },
    {
     "data": {
      "text/plain": [
       "Text(0.5, 1.0, 'Distribution of Target column values in train data before split')"
      ]
     },
     "execution_count": 17,
     "metadata": {},
     "output_type": "execute_result"
    },
    {
     "data": {
      "image/png": "[encoded data removed]",
      "text/plain": [
       "<Figure size 720x432 with 1 Axes>"
      ]
     },
     "metadata": {
      "needs_background": "light"
     },
     "output_type": "display_data"
    }
   ],
   "source": [
    "import seaborn as sns\n",
    "import matplotlib.pyplot as plt\n",
    "\n",
    "print(trainData['FRAUDFOUND'].value_counts())\n",
    "plt.figure(figsize=(10,6))\n",
    "sns.countplot(x=trainData['FRAUDFOUND'])\n",
    "plt.xlabel('FRAUDFOUND', size=14)\n",
    "plt.ylabel('Count', size=14 )\n",
    "plt.title('Distribution of Target column values in train data before split', size=14)"
   ]
  },
  {
   "cell_type": "code",
   "execution_count": 18,
   "metadata": {},
   "outputs": [
    {
     "data": {
      "text/plain": [
       "No     0.961449\n",
       "Yes    0.038551\n",
       "Name: FRAUDFOUND, dtype: float64"
      ]
     },
     "execution_count": 18,
     "metadata": {},
     "output_type": "execute_result"
    }
   ],
   "source": [
    "pd.value_counts(testData.FRAUDFOUND, normalize = True)"
   ]
  },
  {
   "cell_type": "code",
   "execution_count": 19,
   "metadata": {},
   "outputs": [
    {
     "name": "stdout",
     "output_type": "stream",
     "text": [
      "No     12420\n",
      "Yes      498\n",
      "Name: FRAUDFOUND, dtype: int64\n"
     ]
    },
    {
     "data": {
      "text/plain": [
       "Text(0.5, 1.0, 'Distribution of Target column values in test data before split')"
      ]
     },
     "execution_count": 19,
     "metadata": {},
     "output_type": "execute_result"
    },
    {
     "data": {
      "image/png": "[encoded data removed]",
      "text/plain": [
       "<Figure size 720x432 with 1 Axes>"
      ]
     },
     "metadata": {
      "needs_background": "light"
     },
     "output_type": "display_data"
    }
   ],
   "source": [
    "print(testData['FRAUDFOUND'].value_counts())\n",
    "plt.figure(figsize=(10,6))\n",
    "sns.countplot(x=testData['FRAUDFOUND'])\n",
    "plt.xlabel('FRAUDFOUND', size=14)\n",
    "plt.ylabel('Count', size=14 )\n",
    "plt.title('Distribution of Target column values in test data before split', size=14)"
   ]
  },
  {
   "cell_type": "code",
   "execution_count": 20,
   "metadata": {},
   "outputs": [],
   "source": [
    "## try merging both plots to get an holistic picture.\n",
    "# import matplotlib.pyplot as plt\n",
    "\n",
    "# plt.rcParams[\"figure.figsize\"] = [100, 6]\n",
    "# plt.rcParams[\"figure.autolayout\"] = True\n",
    "\n",
    "# x = np.linspace(-100, 100, 100)\n",
    "# y1 = sns.countplot(x=trainData['FRAUDFOUND'])\n",
    "# y2 = sns.countplot(x=testData['FRAUDFOUND'])\n",
    "\n",
    "# plt.subplot(211)\n",
    "# plt.plot(x, y1, color='red', lw=5)\n",
    "# plt.plot(x, y2, color='orange', lw=7)\n",
    "\n",
    "# plt.show()"
   ]
  },
  {
   "cell_type": "code",
   "execution_count": 21,
   "metadata": {
    "colab": {},
    "colab_type": "code",
    "id": "pPVtdv1jmHFU"
   },
   "outputs": [],
   "source": [
    "#List of Categorical Features\n",
    "categoricalFeatures = [ 'MONTH', \"DAYOFWEEK\", \"MAKE\", \"ACCIDENTAREA\", \"DAYOFWEEKCLAIMED\", \"MONTHCLAIMED\", \"SEX\", \\\n",
    "                       \"MARITALSTATUS\", \"FAULT\", \"POLICYTYPE\", \"VEHICLECATEGORY\", \"VEHICLEPRICE\", \"DAYS_POLICY_ACCIDENT\", \\\n",
    "                       \"DAYS_POLICY_CLAIM\", \"PASTNUMBEROFCLAIMS\", \"AGEOFVEHICLE\", \"AGEOFPOLICYHOLDER\", \"POLICEREPORTFILED\", \\\n",
    "                       \"WITNESSPRESENT\", \"AGENTTYPE\", \"NUMBEROFSUPPLIMENTS\", \"ADDRESSCHANGE_CLAIM\", \"NUMBEROFCARS\", \\\n",
    "                       \"BASEPOLICY\"]\n",
    "# print(categoricalFeatures)\n",
    "# print(len(categoricalFeatures)) --24"
   ]
  },
  {
   "cell_type": "code",
   "execution_count": 22,
   "metadata": {
    "colab": {
     "base_uri": "https://localhost:8080/",
     "height": 243
    },
    "colab_type": "code",
    "id": "lyattYm7mHH5",
    "outputId": "0694e628-638c-48be-ce1a-f1ded6564ddb"
   },
   "outputs": [
    {
     "data": {
      "text/html": [
       "<div>\n",
       "<style scoped>\n",
       "    .dataframe tbody tr th:only-of-type {\n",
       "        vertical-align: middle;\n",
       "    }\n",
       "\n",
       "    .dataframe tbody tr th {\n",
       "        vertical-align: top;\n",
       "    }\n",
       "\n",
       "    .dataframe thead th {\n",
       "        text-align: right;\n",
       "    }\n",
       "</style>\n",
       "<table border=\"1\" class=\"dataframe\">\n",
       "  <thead>\n",
       "    <tr style=\"text-align: right;\">\n",
       "      <th></th>\n",
       "      <th>WEEKOFMONTH</th>\n",
       "      <th>WEEKOFMONTHCLAIMED</th>\n",
       "      <th>AGE</th>\n",
       "      <th>REPNUMBER</th>\n",
       "      <th>DEDUCTIBLE</th>\n",
       "      <th>DRIVERRATING</th>\n",
       "      <th>YEAR</th>\n",
       "      <th>x0_Apr</th>\n",
       "      <th>x0_Aug</th>\n",
       "      <th>x0_Dec</th>\n",
       "      <th>...</th>\n",
       "      <th>x21_4_to_8_years</th>\n",
       "      <th>x21_no_change</th>\n",
       "      <th>x21_under_6_months</th>\n",
       "      <th>x22_1-vehicle</th>\n",
       "      <th>x22_2-vehicles</th>\n",
       "      <th>x22_3_to_4</th>\n",
       "      <th>x22_5_to_8</th>\n",
       "      <th>x23_All_Perils</th>\n",
       "      <th>x23_Collision</th>\n",
       "      <th>x23_Liability</th>\n",
       "    </tr>\n",
       "  </thead>\n",
       "  <tbody>\n",
       "    <tr>\n",
       "      <th>724</th>\n",
       "      <td>4</td>\n",
       "      <td>5</td>\n",
       "      <td>44</td>\n",
       "      <td>10</td>\n",
       "      <td>400</td>\n",
       "      <td>4</td>\n",
       "      <td>1995</td>\n",
       "      <td>0.0</td>\n",
       "      <td>0.0</td>\n",
       "      <td>0.0</td>\n",
       "      <td>...</td>\n",
       "      <td>0.0</td>\n",
       "      <td>1.0</td>\n",
       "      <td>0.0</td>\n",
       "      <td>1.0</td>\n",
       "      <td>0.0</td>\n",
       "      <td>0.0</td>\n",
       "      <td>0.0</td>\n",
       "      <td>0.0</td>\n",
       "      <td>0.0</td>\n",
       "      <td>1.0</td>\n",
       "    </tr>\n",
       "    <tr>\n",
       "      <th>1015</th>\n",
       "      <td>2</td>\n",
       "      <td>3</td>\n",
       "      <td>50</td>\n",
       "      <td>10</td>\n",
       "      <td>400</td>\n",
       "      <td>1</td>\n",
       "      <td>1994</td>\n",
       "      <td>0.0</td>\n",
       "      <td>0.0</td>\n",
       "      <td>0.0</td>\n",
       "      <td>...</td>\n",
       "      <td>0.0</td>\n",
       "      <td>1.0</td>\n",
       "      <td>0.0</td>\n",
       "      <td>1.0</td>\n",
       "      <td>0.0</td>\n",
       "      <td>0.0</td>\n",
       "      <td>0.0</td>\n",
       "      <td>1.0</td>\n",
       "      <td>0.0</td>\n",
       "      <td>0.0</td>\n",
       "    </tr>\n",
       "    <tr>\n",
       "      <th>1941</th>\n",
       "      <td>1</td>\n",
       "      <td>3</td>\n",
       "      <td>45</td>\n",
       "      <td>11</td>\n",
       "      <td>400</td>\n",
       "      <td>1</td>\n",
       "      <td>1995</td>\n",
       "      <td>1.0</td>\n",
       "      <td>0.0</td>\n",
       "      <td>0.0</td>\n",
       "      <td>...</td>\n",
       "      <td>0.0</td>\n",
       "      <td>1.0</td>\n",
       "      <td>0.0</td>\n",
       "      <td>1.0</td>\n",
       "      <td>0.0</td>\n",
       "      <td>0.0</td>\n",
       "      <td>0.0</td>\n",
       "      <td>0.0</td>\n",
       "      <td>0.0</td>\n",
       "      <td>1.0</td>\n",
       "    </tr>\n",
       "    <tr>\n",
       "      <th>1354</th>\n",
       "      <td>2</td>\n",
       "      <td>2</td>\n",
       "      <td>50</td>\n",
       "      <td>5</td>\n",
       "      <td>400</td>\n",
       "      <td>2</td>\n",
       "      <td>1995</td>\n",
       "      <td>0.0</td>\n",
       "      <td>0.0</td>\n",
       "      <td>0.0</td>\n",
       "      <td>...</td>\n",
       "      <td>0.0</td>\n",
       "      <td>1.0</td>\n",
       "      <td>0.0</td>\n",
       "      <td>1.0</td>\n",
       "      <td>0.0</td>\n",
       "      <td>0.0</td>\n",
       "      <td>0.0</td>\n",
       "      <td>0.0</td>\n",
       "      <td>1.0</td>\n",
       "      <td>0.0</td>\n",
       "    </tr>\n",
       "    <tr>\n",
       "      <th>1159</th>\n",
       "      <td>2</td>\n",
       "      <td>2</td>\n",
       "      <td>30</td>\n",
       "      <td>14</td>\n",
       "      <td>400</td>\n",
       "      <td>2</td>\n",
       "      <td>1994</td>\n",
       "      <td>0.0</td>\n",
       "      <td>0.0</td>\n",
       "      <td>0.0</td>\n",
       "      <td>...</td>\n",
       "      <td>0.0</td>\n",
       "      <td>1.0</td>\n",
       "      <td>0.0</td>\n",
       "      <td>1.0</td>\n",
       "      <td>0.0</td>\n",
       "      <td>0.0</td>\n",
       "      <td>0.0</td>\n",
       "      <td>0.0</td>\n",
       "      <td>1.0</td>\n",
       "      <td>0.0</td>\n",
       "    </tr>\n",
       "  </tbody>\n",
       "</table>\n",
       "<p>5 rows × 139 columns</p>\n",
       "</div>"
      ],
      "text/plain": [
       "      WEEKOFMONTH  WEEKOFMONTHCLAIMED  AGE  REPNUMBER  DEDUCTIBLE  \\\n",
       "724             4                   5   44         10         400   \n",
       "1015            2                   3   50         10         400   \n",
       "1941            1                   3   45         11         400   \n",
       "1354            2                   2   50          5         400   \n",
       "1159            2                   2   30         14         400   \n",
       "\n",
       "      DRIVERRATING  YEAR  x0_Apr  x0_Aug  x0_Dec  ...  x21_4_to_8_years  \\\n",
       "724              4  1995     0.0     0.0     0.0  ...               0.0   \n",
       "1015             1  1994     0.0     0.0     0.0  ...               0.0   \n",
       "1941             1  1995     1.0     0.0     0.0  ...               0.0   \n",
       "1354             2  1995     0.0     0.0     0.0  ...               0.0   \n",
       "1159             2  1994     0.0     0.0     0.0  ...               0.0   \n",
       "\n",
       "      x21_no_change  x21_under_6_months  x22_1-vehicle  x22_2-vehicles  \\\n",
       "724             1.0                 0.0            1.0             0.0   \n",
       "1015            1.0                 0.0            1.0             0.0   \n",
       "1941            1.0                 0.0            1.0             0.0   \n",
       "1354            1.0                 0.0            1.0             0.0   \n",
       "1159            1.0                 0.0            1.0             0.0   \n",
       "\n",
       "      x22_3_to_4  x22_5_to_8  x23_All_Perils  x23_Collision  x23_Liability  \n",
       "724          0.0         0.0             0.0            0.0            1.0  \n",
       "1015         0.0         0.0             1.0            0.0            0.0  \n",
       "1941         0.0         0.0             0.0            0.0            1.0  \n",
       "1354         0.0         0.0             0.0            1.0            0.0  \n",
       "1159         0.0         0.0             0.0            1.0            0.0  \n",
       "\n",
       "[5 rows x 139 columns]"
      ]
     },
     "execution_count": 22,
     "metadata": {},
     "output_type": "execute_result"
    }
   ],
   "source": [
    "# OneHotEncoding on Train (fit & transform)\n",
    "# OneHotEncoding is to be done on Categorical variables.\n",
    "OHe = OneHotEncoder(handle_unknown='ignore',sparse=False)\n",
    "Xcat = pd.DataFrame(OHe.fit_transform(Xtrain[categoricalFeatures]),columns=OHe.get_feature_names(),index=Xtrain.index)\n",
    "Xtrain = pd.concat([Xtrain,Xcat],axis=1)\n",
    "Xtrain.drop(labels=categoricalFeatures,axis=1,inplace=True)\n",
    "Xtrain.sample(5)"
   ]
  },
  {
   "cell_type": "code",
   "execution_count": 23,
   "metadata": {
    "colab": {
     "base_uri": "https://localhost:8080/",
     "height": 243
    },
    "colab_type": "code",
    "id": "WKXBfq2ImHJw",
    "outputId": "ccbd2d1b-0fe1-4ce6-a50f-34d4c1040278"
   },
   "outputs": [
    {
     "data": {
      "text/html": [
       "<div>\n",
       "<style scoped>\n",
       "    .dataframe tbody tr th:only-of-type {\n",
       "        vertical-align: middle;\n",
       "    }\n",
       "\n",
       "    .dataframe tbody tr th {\n",
       "        vertical-align: top;\n",
       "    }\n",
       "\n",
       "    .dataframe thead th {\n",
       "        text-align: right;\n",
       "    }\n",
       "</style>\n",
       "<table border=\"1\" class=\"dataframe\">\n",
       "  <thead>\n",
       "    <tr style=\"text-align: right;\">\n",
       "      <th></th>\n",
       "      <th>WEEKOFMONTH</th>\n",
       "      <th>WEEKOFMONTHCLAIMED</th>\n",
       "      <th>AGE</th>\n",
       "      <th>REPNUMBER</th>\n",
       "      <th>DEDUCTIBLE</th>\n",
       "      <th>DRIVERRATING</th>\n",
       "      <th>YEAR</th>\n",
       "      <th>x0_Apr</th>\n",
       "      <th>x0_Aug</th>\n",
       "      <th>x0_Dec</th>\n",
       "      <th>...</th>\n",
       "      <th>x21_4_to_8_years</th>\n",
       "      <th>x21_no_change</th>\n",
       "      <th>x21_under_6_months</th>\n",
       "      <th>x22_1-vehicle</th>\n",
       "      <th>x22_2-vehicles</th>\n",
       "      <th>x22_3_to_4</th>\n",
       "      <th>x22_5_to_8</th>\n",
       "      <th>x23_All_Perils</th>\n",
       "      <th>x23_Collision</th>\n",
       "      <th>x23_Liability</th>\n",
       "    </tr>\n",
       "  </thead>\n",
       "  <tbody>\n",
       "    <tr>\n",
       "      <th>156</th>\n",
       "      <td>1</td>\n",
       "      <td>2</td>\n",
       "      <td>35</td>\n",
       "      <td>1</td>\n",
       "      <td>400</td>\n",
       "      <td>4</td>\n",
       "      <td>1994</td>\n",
       "      <td>0.0</td>\n",
       "      <td>0.0</td>\n",
       "      <td>0.0</td>\n",
       "      <td>...</td>\n",
       "      <td>0.0</td>\n",
       "      <td>1.0</td>\n",
       "      <td>0.0</td>\n",
       "      <td>1.0</td>\n",
       "      <td>0.0</td>\n",
       "      <td>0.0</td>\n",
       "      <td>0.0</td>\n",
       "      <td>1.0</td>\n",
       "      <td>0.0</td>\n",
       "      <td>0.0</td>\n",
       "    </tr>\n",
       "    <tr>\n",
       "      <th>8420</th>\n",
       "      <td>1</td>\n",
       "      <td>4</td>\n",
       "      <td>80</td>\n",
       "      <td>3</td>\n",
       "      <td>400</td>\n",
       "      <td>4</td>\n",
       "      <td>1994</td>\n",
       "      <td>0.0</td>\n",
       "      <td>0.0</td>\n",
       "      <td>1.0</td>\n",
       "      <td>...</td>\n",
       "      <td>0.0</td>\n",
       "      <td>1.0</td>\n",
       "      <td>0.0</td>\n",
       "      <td>1.0</td>\n",
       "      <td>0.0</td>\n",
       "      <td>0.0</td>\n",
       "      <td>0.0</td>\n",
       "      <td>0.0</td>\n",
       "      <td>1.0</td>\n",
       "      <td>0.0</td>\n",
       "    </tr>\n",
       "    <tr>\n",
       "      <th>2993</th>\n",
       "      <td>3</td>\n",
       "      <td>4</td>\n",
       "      <td>46</td>\n",
       "      <td>9</td>\n",
       "      <td>400</td>\n",
       "      <td>4</td>\n",
       "      <td>1996</td>\n",
       "      <td>0.0</td>\n",
       "      <td>0.0</td>\n",
       "      <td>0.0</td>\n",
       "      <td>...</td>\n",
       "      <td>0.0</td>\n",
       "      <td>1.0</td>\n",
       "      <td>0.0</td>\n",
       "      <td>1.0</td>\n",
       "      <td>0.0</td>\n",
       "      <td>0.0</td>\n",
       "      <td>0.0</td>\n",
       "      <td>1.0</td>\n",
       "      <td>0.0</td>\n",
       "      <td>0.0</td>\n",
       "    </tr>\n",
       "    <tr>\n",
       "      <th>6832</th>\n",
       "      <td>5</td>\n",
       "      <td>1</td>\n",
       "      <td>39</td>\n",
       "      <td>15</td>\n",
       "      <td>400</td>\n",
       "      <td>1</td>\n",
       "      <td>1994</td>\n",
       "      <td>0.0</td>\n",
       "      <td>1.0</td>\n",
       "      <td>0.0</td>\n",
       "      <td>...</td>\n",
       "      <td>0.0</td>\n",
       "      <td>1.0</td>\n",
       "      <td>0.0</td>\n",
       "      <td>1.0</td>\n",
       "      <td>0.0</td>\n",
       "      <td>0.0</td>\n",
       "      <td>0.0</td>\n",
       "      <td>0.0</td>\n",
       "      <td>1.0</td>\n",
       "      <td>0.0</td>\n",
       "    </tr>\n",
       "    <tr>\n",
       "      <th>6125</th>\n",
       "      <td>5</td>\n",
       "      <td>3</td>\n",
       "      <td>31</td>\n",
       "      <td>7</td>\n",
       "      <td>400</td>\n",
       "      <td>3</td>\n",
       "      <td>1994</td>\n",
       "      <td>0.0</td>\n",
       "      <td>0.0</td>\n",
       "      <td>0.0</td>\n",
       "      <td>...</td>\n",
       "      <td>0.0</td>\n",
       "      <td>1.0</td>\n",
       "      <td>0.0</td>\n",
       "      <td>1.0</td>\n",
       "      <td>0.0</td>\n",
       "      <td>0.0</td>\n",
       "      <td>0.0</td>\n",
       "      <td>1.0</td>\n",
       "      <td>0.0</td>\n",
       "      <td>0.0</td>\n",
       "    </tr>\n",
       "  </tbody>\n",
       "</table>\n",
       "<p>5 rows × 139 columns</p>\n",
       "</div>"
      ],
      "text/plain": [
       "      WEEKOFMONTH  WEEKOFMONTHCLAIMED  AGE  REPNUMBER  DEDUCTIBLE  \\\n",
       "156             1                   2   35          1         400   \n",
       "8420            1                   4   80          3         400   \n",
       "2993            3                   4   46          9         400   \n",
       "6832            5                   1   39         15         400   \n",
       "6125            5                   3   31          7         400   \n",
       "\n",
       "      DRIVERRATING  YEAR  x0_Apr  x0_Aug  x0_Dec  ...  x21_4_to_8_years  \\\n",
       "156              4  1994     0.0     0.0     0.0  ...               0.0   \n",
       "8420             4  1994     0.0     0.0     1.0  ...               0.0   \n",
       "2993             4  1996     0.0     0.0     0.0  ...               0.0   \n",
       "6832             1  1994     0.0     1.0     0.0  ...               0.0   \n",
       "6125             3  1994     0.0     0.0     0.0  ...               0.0   \n",
       "\n",
       "      x21_no_change  x21_under_6_months  x22_1-vehicle  x22_2-vehicles  \\\n",
       "156             1.0                 0.0            1.0             0.0   \n",
       "8420            1.0                 0.0            1.0             0.0   \n",
       "2993            1.0                 0.0            1.0             0.0   \n",
       "6832            1.0                 0.0            1.0             0.0   \n",
       "6125            1.0                 0.0            1.0             0.0   \n",
       "\n",
       "      x22_3_to_4  x22_5_to_8  x23_All_Perils  x23_Collision  x23_Liability  \n",
       "156          0.0         0.0             1.0            0.0            0.0  \n",
       "8420         0.0         0.0             0.0            1.0            0.0  \n",
       "2993         0.0         0.0             1.0            0.0            0.0  \n",
       "6832         0.0         0.0             0.0            1.0            0.0  \n",
       "6125         0.0         0.0             1.0            0.0            0.0  \n",
       "\n",
       "[5 rows x 139 columns]"
      ]
     },
     "execution_count": 23,
     "metadata": {},
     "output_type": "execute_result"
    }
   ],
   "source": [
    "# OneHotEncoding on Test (only transform)\n",
    "# OneHotEncoding is to be done on Categorical variables.\n",
    "Xcat = pd.DataFrame(OHe.transform(Xtest[categoricalFeatures]),columns=OHe.get_feature_names(),index=Xtest.index)\n",
    "Xtest = pd.concat([Xtest,Xcat],axis=1)\n",
    "Xtest.drop(labels=categoricalFeatures,axis=1,inplace=True)\n",
    "Xtest.sample(5)"
   ]
  },
  {
   "cell_type": "code",
   "execution_count": 24,
   "metadata": {
    "colab": {
     "base_uri": "https://localhost:8080/",
     "height": 126
    },
    "colab_type": "code",
    "id": "WoJIlhutmHMq",
    "outputId": "0cc31b98-c626-4057-bd7a-39312ba747dc"
   },
   "outputs": [
    {
     "data": {
      "text/plain": [
       "{'ccp_alpha': 0.0,\n",
       " 'class_weight': None,\n",
       " 'criterion': 'gini',\n",
       " 'max_depth': None,\n",
       " 'max_features': None,\n",
       " 'max_leaf_nodes': None,\n",
       " 'min_impurity_decrease': 0.0,\n",
       " 'min_samples_leaf': 1,\n",
       " 'min_samples_split': 2,\n",
       " 'min_weight_fraction_leaf': 0.0,\n",
       " 'random_state': None,\n",
       " 'splitter': 'best'}"
      ]
     },
     "execution_count": 24,
     "metadata": {},
     "output_type": "execute_result"
    }
   ],
   "source": [
    "dt = DecisionTreeClassifier()\n",
    "dt.fit(Xtrain, Ytrain)\n",
    "dt.get_params()"
   ]
  },
  {
   "cell_type": "code",
   "execution_count": 25,
   "metadata": {
    "colab": {
     "base_uri": "https://localhost:8080/",
     "height": 163
    },
    "colab_type": "code",
    "id": "FUgyqFcYojrV",
    "outputId": "ee343c29-2ae7-4005-f1c6-634743d9e7c5"
   },
   "outputs": [
    {
     "data": {
      "text/plain": [
       "{'bootstrap': True,\n",
       " 'ccp_alpha': 0.0,\n",
       " 'class_weight': None,\n",
       " 'criterion': 'gini',\n",
       " 'max_depth': None,\n",
       " 'max_features': 'auto',\n",
       " 'max_leaf_nodes': None,\n",
       " 'max_samples': None,\n",
       " 'min_impurity_decrease': 0.0,\n",
       " 'min_samples_leaf': 1,\n",
       " 'min_samples_split': 2,\n",
       " 'min_weight_fraction_leaf': 0.0,\n",
       " 'n_estimators': 100,\n",
       " 'n_jobs': None,\n",
       " 'oob_score': False,\n",
       " 'random_state': None,\n",
       " 'verbose': 0,\n",
       " 'warm_start': False}"
      ]
     },
     "execution_count": 25,
     "metadata": {},
     "output_type": "execute_result"
    }
   ],
   "source": [
    "rf = RandomForestClassifier()\n",
    "rf.fit(Xtrain, Ytrain)\n",
    "rf.get_params()"
   ]
  },
  {
   "cell_type": "code",
   "execution_count": 26,
   "metadata": {
    "colab": {
     "base_uri": "https://localhost:8080/",
     "height": 363
    },
    "colab_type": "code",
    "id": "Bv-B6oECojwE",
    "outputId": "13d79431-7fda-4751-e78b-26d6fc241970"
   },
   "outputs": [
    {
     "name": "stdout",
     "output_type": "stream",
     "text": [
      "Train Accuracy: 1.0\n",
      "Test Accuracy: 0.8831088403777675\n",
      "Confusion Matrix for Decision Tree:\n",
      "[[10963  1457]\n",
      " [   53   445]]\n",
      "Max Depth 25\n",
      "Leaf 290\n",
      "Printing the precision and recall, among other metrics\n",
      "              precision    recall  f1-score   support\n",
      "\n",
      "          No       1.00      0.88      0.94     12420\n",
      "         Yes       0.23      0.89      0.37       498\n",
      "\n",
      "    accuracy                           0.88     12918\n",
      "   macro avg       0.61      0.89      0.65     12918\n",
      "weighted avg       0.97      0.88      0.91     12918\n",
      "\n"
     ]
    }
   ],
   "source": [
    "#  Checking Accuracy over traine target attribute and [predicted values from Decision Tree model\n",
    "test_Pred = dt.predict(Xtest)\n",
    "train_Pred = dt.predict(Xtrain)\n",
    "#Model Accuracy\n",
    "print(\"Train Accuracy:\", metrics.accuracy_score(Ytrain,train_Pred))\n",
    "print(\"Test Accuracy:\", metrics.accuracy_score(Ytest,test_Pred))\n",
    "print(\"Confusion Matrix for Decision Tree:\")\n",
    "print(confusion_matrix(Ytest,test_Pred))\n",
    "print(\"Max Depth\",dt.get_depth())\n",
    "print(\"Leaf\",dt.get_n_leaves())\n",
    "print('Printing the precision and recall, among other metrics')\n",
    "print(metrics.classification_report(Ytest, test_Pred))"
   ]
  },
  {
   "cell_type": "code",
   "execution_count": 27,
   "metadata": {
    "colab": {
     "base_uri": "https://localhost:8080/",
     "height": 326
    },
    "colab_type": "code",
    "id": "Jqu4blt4ojyq",
    "outputId": "e4adf5d6-99dd-4712-fe92-f76ecf07108f"
   },
   "outputs": [
    {
     "name": "stdout",
     "output_type": "stream",
     "text": [
      "Train Accuracy: 1.0\n",
      "Test Accuracy: 0.9643907725654126\n",
      "Confusion Matrix for Decision Tree:\n",
      "[[12038   382]\n",
      " [   78   420]]\n",
      "Printing the precision and recall, among other metrics\n",
      "              precision    recall  f1-score   support\n",
      "\n",
      "          No       0.99      0.97      0.98     12420\n",
      "         Yes       0.52      0.84      0.65       498\n",
      "\n",
      "    accuracy                           0.96     12918\n",
      "   macro avg       0.76      0.91      0.81     12918\n",
      "weighted avg       0.98      0.96      0.97     12918\n",
      "\n"
     ]
    }
   ],
   "source": [
    "#  Checking Accuracy over traine target attribute and [predicted values from Random Forest model\n",
    "test_Pred1 = rf.predict(Xtest)\n",
    "train_Pred1 = rf.predict(Xtrain)\n",
    "#Model Accuracy\n",
    "print(\"Train Accuracy:\", metrics.accuracy_score(Ytrain,train_Pred1))\n",
    "print(\"Test Accuracy:\", metrics.accuracy_score(Ytest,test_Pred1))\n",
    "print(\"Confusion Matrix for Decision Tree:\")\n",
    "print(confusion_matrix(Ytest,test_Pred1))\n",
    "print('Printing the precision and recall, among other metrics')\n",
    "print(metrics.classification_report(Ytest, test_Pred1))"
   ]
  },
  {
   "cell_type": "markdown",
   "metadata": {
    "colab_type": "text",
    "id": "ZsxXgxOwpmr2"
   },
   "source": [
    "Decision Tree: Random & Grid Search"
   ]
  },
  {
   "cell_type": "code",
   "execution_count": 28,
   "metadata": {
    "colab": {
     "base_uri": "https://localhost:8080/",
     "height": 90
    },
    "colab_type": "code",
    "id": "BdI0GelEpkdd",
    "outputId": "f3709eb2-fac0-4be7-bf8d-1a47dcdd87b0"
   },
   "outputs": [
    {
     "name": "stdout",
     "output_type": "stream",
     "text": [
      "RandomizedSearchCV-Decision tree\n",
      "{'min_samples_leaf': 50, 'max_depth': 17, 'criterion': 'entropy'}\n",
      "accuracy Score for Decision Tree:0.884115\n",
      "--- 2.448269844055176 seconds ---\n"
     ]
    }
   ],
   "source": [
    "#Hyperparameter tuning done for decision tree classifier\n",
    "\n",
    "#RANDOM SEARCH--------------------------------------------\n",
    "\n",
    "import time\n",
    "start_time = time.time()\n",
    "\n",
    "print(\"RandomizedSearchCV-Decision tree\")\n",
    "parameters={'min_samples_leaf' : range(10,250,10),'max_depth': \n",
    "            range(5,25,2),'criterion':['gini','entropy']}\n",
    "dt_random = RandomizedSearchCV(dt,parameters,n_iter=25,cv=5)\n",
    "dt_random.fit(Xtrain, Ytrain)\n",
    "grid_parm=dt_random.best_params_\n",
    "print(grid_parm)\n",
    "print(\"accuracy Score for Decision Tree:{0:6f}\".\n",
    "      format(dt_random.score(Xtest,Ytest)))\n",
    "\n",
    "print(\"--- %s seconds ---\" % (time.time() - start_time))"
   ]
  },
  {
   "cell_type": "code",
   "execution_count": 29,
   "metadata": {
    "colab": {
     "base_uri": "https://localhost:8080/",
     "height": 90
    },
    "colab_type": "code",
    "id": "fsp_cahCpkf_",
    "outputId": "7d3e26cc-6384-4258-bcd5-c2cdb8e32fc5"
   },
   "outputs": [
    {
     "name": "stdout",
     "output_type": "stream",
     "text": [
      "GridSearchCV-Decision tree\n",
      "{'criterion': 'entropy', 'max_depth': 7, 'min_samples_leaf': 30}\n",
      "accuracy Score for Decision Tree:0.897430\n",
      "--- 51.53314757347107 seconds ---\n"
     ]
    }
   ],
   "source": [
    "#GRID SEARCH----------------------------------------\n",
    "\n",
    "import time\n",
    "start_time = time.time()\n",
    "\n",
    "print(\"GridSearchCV-Decision tree\")\n",
    "dt_grid = GridSearchCV(dt,parameters)\n",
    "dt_grid.fit(Xtrain, Ytrain)\n",
    "grid_parm1=dt_grid.best_params_\n",
    "print(grid_parm1)\n",
    "print(\"accuracy Score for Decision Tree:{0:6f}\".\n",
    "      format(dt_grid.score(Xtest,Ytest)))\n",
    "\n",
    "print(\"--- %s seconds ---\" % (time.time() - start_time))"
   ]
  },
  {
   "cell_type": "code",
   "execution_count": 30,
   "metadata": {
    "colab": {},
    "colab_type": "code",
    "id": "5qebKqnlpkiH"
   },
   "outputs": [],
   "source": [
    "#Using the parameters obtained from HyperParameterTuning in the DecisionTreeClassifier \n",
    "dtRand = DecisionTreeClassifier(**grid_parm)\n",
    "dtGrid = DecisionTreeClassifier(**grid_parm1)\n",
    "\n",
    "dtRand.fit(Xtrain,Ytrain)\n",
    "dtRand_predict = dtRand.predict(Xtest)\n",
    "dtGrid.fit(Xtrain,Ytrain)\n",
    "dtGrid_predict = dtGrid.predict(Xtest)"
   ]
  },
  {
   "cell_type": "code",
   "execution_count": 31,
   "metadata": {
    "colab": {
     "base_uri": "https://localhost:8080/",
     "height": 326
    },
    "colab_type": "code",
    "id": "rK7heVWJpkk2",
    "outputId": "1e4a59d0-1f9d-4307-a8f5-590fc8fe28e3"
   },
   "outputs": [
    {
     "name": "stdout",
     "output_type": "stream",
     "text": [
      "Test Accuracy: 0.8841151881096145\n",
      "Confusion Matrix for Decision Tree:\n",
      "[[11255  1165]\n",
      " [  332   166]]\n",
      "Printing the precision and recall, among other metrics\n",
      "              precision    recall  f1-score   support\n",
      "\n",
      "          No       0.97      0.91      0.94     12420\n",
      "         Yes       0.12      0.33      0.18       498\n",
      "\n",
      "    accuracy                           0.88     12918\n",
      "   macro avg       0.55      0.62      0.56     12918\n",
      "weighted avg       0.94      0.88      0.91     12918\n",
      "\n",
      "[0.74615385 0.73990385 0.54375    0.5        0.57594937]\n"
     ]
    }
   ],
   "source": [
    "# Accuracy for Decision Tree using Random Search CV for Hyperparameter Tuning\n",
    "\n",
    "print(\"Test Accuracy:\", metrics.accuracy_score(Ytest,dtRand_predict))\n",
    "print(\"Confusion Matrix for Decision Tree:\")\n",
    "print(confusion_matrix(Ytest,dtRand_predict))\n",
    "print('Printing the precision and recall, among other metrics')\n",
    "print(metrics.classification_report(Ytest, dtRand_predict))\n",
    "clf_cv_score = cross_val_score(dtRand, Xtrain, Ytrain, cv=5, scoring=\"balanced_accuracy\")\n",
    "print(clf_cv_score)"
   ]
  },
  {
   "cell_type": "code",
   "execution_count": 39,
   "metadata": {
    "colab": {
     "base_uri": "https://localhost:8080/",
     "height": 126
    },
    "colab_type": "code",
    "id": "MoZ-aq5Kp0SL",
    "outputId": "add26a64-4254-438d-afb1-11d610f3b33a"
   },
   "outputs": [
    {
     "name": "stdout",
     "output_type": "stream",
     "text": [
      "Test Accuracy: 0.8974299427155906\n",
      "Confusion Matrix for Decision Tree:\n",
      "[[11427   993]\n",
      " [  332   166]]\n",
      "Printing the precision and recall, among other metrics\n",
      "              precision    recall  f1-score   support\n",
      "\n",
      "          No       0.97      0.92      0.95     12420\n",
      "         Yes       0.14      0.33      0.20       498\n",
      "\n",
      "    accuracy                           0.90     12918\n",
      "   macro avg       0.56      0.63      0.57     12918\n",
      "weighted avg       0.94      0.90      0.92     12918\n",
      "\n",
      "[0.74615385 0.69807692 0.54182692 0.5        0.56962025]\n"
     ]
    }
   ],
   "source": [
    "# Accuracy for Decision Tree using Grid Search for Hyperparameter Tuning\n",
    "\n",
    "print(\"Test Accuracy:\", metrics.accuracy_score(Ytest,dtGrid_predict))\n",
    "print(\"Confusion Matrix for Decision Tree:\")\n",
    "print(confusion_matrix(Ytest,dtGrid_predict))\n",
    "print('Printing the precision and recall, among other metrics')\n",
    "print(metrics.classification_report(Ytest, dtGrid_predict))\n",
    "clf_cv_score = cross_val_score(dtGrid, Xtrain, Ytrain, cv=5, scoring=\"balanced_accuracy\")\n",
    "print(clf_cv_score)"
   ]
  },
  {
   "cell_type": "code",
   "execution_count": 40,
   "metadata": {},
   "outputs": [
    {
     "name": "stdout",
     "output_type": "stream",
     "text": [
      "RandomizedSearchCV-Decision tree\n",
      "{'min_samples_leaf': 50, 'max_depth': 5, 'criterion': 'entropy'}\n",
      "accuracy Score for Decision Tree:0.884115\n",
      "--- 2.7023229598999023 seconds ---\n"
     ]
    }
   ],
   "source": [
    "#Hyperparameter tuning done for decision tree classifier\n",
    "\n",
    "#RANDOM SEARCH-------------------------------------------- Model 2\n",
    "\n",
    "import time\n",
    "start_time = time.time()\n",
    "\n",
    "print(\"RandomizedSearchCV-Decision tree\")\n",
    "parameters2={'min_samples_leaf' : range(10,300,20),'max_depth': \n",
    "            range(5,40,3),'criterion':['gini','entropy']}\n",
    "dt_random = RandomizedSearchCV(dt,parameters2,n_iter=25,cv=5)\n",
    "dt_random.fit(Xtrain, Ytrain)\n",
    "grid_parm2=dt_random.best_params_\n",
    "print(grid_parm2)\n",
    "print(\"accuracy Score for Decision Tree:{0:6f}\".\n",
    "      format(dt_random.score(Xtest,Ytest)))\n",
    "\n",
    "print(\"--- %s seconds ---\" % (time.time() - start_time))"
   ]
  },
  {
   "cell_type": "code",
   "execution_count": 41,
   "metadata": {},
   "outputs": [
    {
     "name": "stdout",
     "output_type": "stream",
     "text": [
      "GridSearchCV-Decision tree\n",
      "{'criterion': 'entropy', 'max_depth': 5, 'min_samples_leaf': 30}\n",
      "accuracy Score for Decision Tree:0.877380\n",
      "--- 41.24731421470642 seconds ---\n"
     ]
    }
   ],
   "source": [
    "#GRID SEARCH----------------------------------------Model2\n",
    "\n",
    "import time\n",
    "start_time = time.time()\n",
    "\n",
    "print(\"GridSearchCV-Decision tree\")\n",
    "dt_grid = GridSearchCV(dt,parameters2)\n",
    "dt_grid.fit(Xtrain, Ytrain)\n",
    "grid_parm3=dt_grid.best_params_\n",
    "print(grid_parm3)\n",
    "print(\"accuracy Score for Decision Tree:{0:6f}\".\n",
    "      format(dt_grid.score(Xtest,Ytest)))\n",
    "\n",
    "print(\"--- %s seconds ---\" % (time.time() - start_time))"
   ]
  },
  {
   "cell_type": "code",
   "execution_count": 42,
   "metadata": {},
   "outputs": [],
   "source": [
    "#Using the parameters obtained from HyperParameterTuning in the DecisionTreeClassifier \n",
    "dtRand = DecisionTreeClassifier(**grid_parm2)\n",
    "dtGrid = DecisionTreeClassifier(**grid_parm3)\n",
    "\n",
    "dtRand.fit(Xtrain,Ytrain)\n",
    "dtRand_predict = dtRand.predict(Xtest)\n",
    "dtGrid.fit(Xtrain,Ytrain)\n",
    "dtGrid_predict = dtGrid.predict(Xtest)"
   ]
  },
  {
   "cell_type": "code",
   "execution_count": 43,
   "metadata": {},
   "outputs": [
    {
     "name": "stdout",
     "output_type": "stream",
     "text": [
      "Test Accuracy: 0.8841151881096145\n",
      "Confusion Matrix for Decision Tree:\n",
      "[[11255  1165]\n",
      " [  332   166]]\n",
      "Printing the precision and recall, among other metrics\n",
      "              precision    recall  f1-score   support\n",
      "\n",
      "          No       0.97      0.91      0.94     12420\n",
      "         Yes       0.12      0.33      0.18       498\n",
      "\n",
      "    accuracy                           0.88     12918\n",
      "   macro avg       0.55      0.62      0.56     12918\n",
      "weighted avg       0.94      0.88      0.91     12918\n",
      "\n",
      "[0.74615385 0.73990385 0.54375    0.5        0.57594937]\n"
     ]
    }
   ],
   "source": [
    "# Accuracy for Decision Tree using Random Search CV for Hyperparameter Tuning\n",
    "\n",
    "print(\"Test Accuracy:\", metrics.accuracy_score(Ytest,dtRand_predict))\n",
    "print(\"Confusion Matrix for Decision Tree:\")\n",
    "print(confusion_matrix(Ytest,dtRand_predict))\n",
    "print('Printing the precision and recall, among other metrics')\n",
    "print(metrics.classification_report(Ytest, dtRand_predict))\n",
    "clf_cv_score = cross_val_score(dtRand, Xtrain, Ytrain, cv=5, scoring=\"balanced_accuracy\")\n",
    "print(clf_cv_score)"
   ]
  },
  {
   "cell_type": "code",
   "execution_count": 44,
   "metadata": {
    "scrolled": true
   },
   "outputs": [
    {
     "name": "stdout",
     "output_type": "stream",
     "text": [
      "Test Accuracy: 0.8773803994426381\n",
      "Confusion Matrix for Decision Tree:\n",
      "[[11162  1258]\n",
      " [  326   172]]\n",
      "Printing the precision and recall, among other metrics\n",
      "              precision    recall  f1-score   support\n",
      "\n",
      "          No       0.97      0.90      0.93     12420\n",
      "         Yes       0.12      0.35      0.18       498\n",
      "\n",
      "    accuracy                           0.88     12918\n",
      "   macro avg       0.55      0.62      0.56     12918\n",
      "weighted avg       0.94      0.88      0.90     12918\n",
      "\n",
      "[0.74615385 0.69807692 0.54375    0.5        0.55696203]\n"
     ]
    }
   ],
   "source": [
    "# Accuracy for Decision Tree using Grid Search for Hyperparameter Tuning\n",
    "\n",
    "print(\"Test Accuracy:\", metrics.accuracy_score(Ytest,dtGrid_predict))\n",
    "print(\"Confusion Matrix for Decision Tree:\")\n",
    "print(confusion_matrix(Ytest,dtGrid_predict))\n",
    "print('Printing the precision and recall, among other metrics')\n",
    "print(metrics.classification_report(Ytest, dtGrid_predict))\n",
    "clf_cv_score = cross_val_score(dtGrid, Xtrain, Ytrain, cv=5, scoring=\"balanced_accuracy\")\n",
    "print(clf_cv_score)"
   ]
  },
  {
   "cell_type": "code",
   "execution_count": 45,
   "metadata": {},
   "outputs": [
    {
     "name": "stdout",
     "output_type": "stream",
     "text": [
      "RandomizedSearchCV-Decision tree\n",
      "{'min_samples_leaf': 30, 'max_depth': 8, 'criterion': 'entropy'}\n",
      "accuracy Score for Decision Tree:0.897430\n",
      "--- 2.7390191555023193 seconds ---\n"
     ]
    }
   ],
   "source": [
    "#Hyperparameter tuning done for decision tree classifier\n",
    "\n",
    "#RANDOM SEARCH-------------------------------------------- Model 3\n",
    "\n",
    "import time\n",
    "start_time = time.time()\n",
    "\n",
    "print(\"RandomizedSearchCV-Decision tree\")\n",
    "parameters3={'min_samples_leaf' : range(10,300,20),'max_depth': \n",
    "            range(5,40,3),'criterion':['gini','entropy']}\n",
    "dt_random = RandomizedSearchCV(dt,parameters3,n_iter=25,cv=5)\n",
    "dt_random.fit(Xtrain, Ytrain)\n",
    "grid_parm4=dt_random.best_params_\n",
    "print(grid_parm4)\n",
    "print(\"accuracy Score for Decision Tree:{0:6f}\".\n",
    "      format(dt_random.score(Xtest,Ytest)))\n",
    "\n",
    "print(\"--- %s seconds ---\" % (time.time() - start_time))"
   ]
  },
  {
   "cell_type": "code",
   "execution_count": 46,
   "metadata": {},
   "outputs": [
    {
     "name": "stdout",
     "output_type": "stream",
     "text": [
      "GridSearchCV-Decision tree\n",
      "{'criterion': 'entropy', 'max_depth': 5, 'min_samples_leaf': 30}\n",
      "accuracy Score for Decision Tree:0.877380\n",
      "--- 40.05531716346741 seconds ---\n"
     ]
    }
   ],
   "source": [
    "#GRID SEARCH----------------------------------------Model3\n",
    "\n",
    "import time\n",
    "start_time = time.time()\n",
    "\n",
    "print(\"GridSearchCV-Decision tree\")\n",
    "dt_grid = GridSearchCV(dt,parameters3)\n",
    "dt_grid.fit(Xtrain, Ytrain)\n",
    "grid_parm5=dt_grid.best_params_\n",
    "print(grid_parm5)\n",
    "print(\"accuracy Score for Decision Tree:{0:6f}\".\n",
    "      format(dt_grid.score(Xtest,Ytest)))\n",
    "\n",
    "print(\"--- %s seconds ---\" % (time.time() - start_time))"
   ]
  },
  {
   "cell_type": "code",
   "execution_count": 47,
   "metadata": {},
   "outputs": [],
   "source": [
    "#Using the parameters obtained from HyperParameterTuning in the DecisionTreeClassifier \n",
    "dtRand = DecisionTreeClassifier(**grid_parm4)\n",
    "dtGrid = DecisionTreeClassifier(**grid_parm5)\n",
    "\n",
    "dtRand.fit(Xtrain,Ytrain)\n",
    "dtRand_predict = dtRand.predict(Xtest)\n",
    "dtGrid.fit(Xtrain,Ytrain)\n",
    "dtGrid_predict = dtGrid.predict(Xtest)"
   ]
  },
  {
   "cell_type": "code",
   "execution_count": 48,
   "metadata": {},
   "outputs": [
    {
     "name": "stdout",
     "output_type": "stream",
     "text": [
      "Test Accuracy: 0.8974299427155906\n",
      "Confusion Matrix for Decision Tree:\n",
      "[[11427   993]\n",
      " [  332   166]]\n",
      "Printing the precision and recall, among other metrics\n",
      "              precision    recall  f1-score   support\n",
      "\n",
      "          No       0.97      0.92      0.95     12420\n",
      "         Yes       0.14      0.33      0.20       498\n",
      "\n",
      "    accuracy                           0.90     12918\n",
      "   macro avg       0.56      0.63      0.57     12918\n",
      "weighted avg       0.94      0.90      0.92     12918\n",
      "\n",
      "[0.74615385 0.69807692 0.54182692 0.50240385 0.56962025]\n"
     ]
    }
   ],
   "source": [
    "# Accuracy for Decision Tree using Random Search CV for Hyperparameter Tuning\n",
    "\n",
    "print(\"Test Accuracy:\", metrics.accuracy_score(Ytest,dtRand_predict))\n",
    "print(\"Confusion Matrix for Decision Tree:\")\n",
    "print(confusion_matrix(Ytest,dtRand_predict))\n",
    "print('Printing the precision and recall, among other metrics')\n",
    "print(metrics.classification_report(Ytest, dtRand_predict))\n",
    "clf_cv_score = cross_val_score(dtRand, Xtrain, Ytrain, cv=5, scoring=\"balanced_accuracy\")\n",
    "print(clf_cv_score)"
   ]
  },
  {
   "cell_type": "code",
   "execution_count": 49,
   "metadata": {},
   "outputs": [
    {
     "name": "stdout",
     "output_type": "stream",
     "text": [
      "Test Accuracy: 0.8773803994426381\n",
      "Confusion Matrix for Decision Tree:\n",
      "[[11162  1258]\n",
      " [  326   172]]\n",
      "Printing the precision and recall, among other metrics\n",
      "              precision    recall  f1-score   support\n",
      "\n",
      "          No       0.97      0.90      0.93     12420\n",
      "         Yes       0.12      0.35      0.18       498\n",
      "\n",
      "    accuracy                           0.88     12918\n",
      "   macro avg       0.55      0.62      0.56     12918\n",
      "weighted avg       0.94      0.88      0.90     12918\n",
      "\n",
      "[0.74615385 0.69807692 0.54375    0.5        0.55696203]\n"
     ]
    }
   ],
   "source": [
    "# Accuracy for Decision Tree using Grid Search for Hyperparameter Tuning\n",
    "\n",
    "print(\"Test Accuracy:\", metrics.accuracy_score(Ytest,dtGrid_predict))\n",
    "print(\"Confusion Matrix for Decision Tree:\")\n",
    "print(confusion_matrix(Ytest,dtGrid_predict))\n",
    "print('Printing the precision and recall, among other metrics')\n",
    "print(metrics.classification_report(Ytest, dtGrid_predict))\n",
    "clf_cv_score = cross_val_score(dtGrid, Xtrain, Ytrain, cv=5, scoring=\"balanced_accuracy\")\n",
    "print(clf_cv_score)"
   ]
  },
  {
   "cell_type": "code",
   "execution_count": 33,
   "metadata": {},
   "outputs": [],
   "source": [
    "### ---------------------starting Random Forest Model -----------------------------------------"
   ]
  },
  {
   "cell_type": "markdown",
   "metadata": {
    "colab_type": "text",
    "id": "EuvBD_hQp4Y4"
   },
   "source": [
    "Random Forest: Random & Grid Search"
   ]
  },
  {
   "cell_type": "code",
   "execution_count": 34,
   "metadata": {
    "colab": {
     "base_uri": "https://localhost:8080/",
     "height": 90
    },
    "colab_type": "code",
    "id": "rk4SasKCp0kt",
    "outputId": "cf9431fc-9ea4-407a-b7b6-7b21b3bc2a68"
   },
   "outputs": [
    {
     "name": "stdout",
     "output_type": "stream",
     "text": [
      "RandomizedSearchCV-Random forest\n",
      "{'n_estimators': 40, 'min_samples_leaf': 10, 'max_features': 20, 'max_depth': 7}\n",
      "accuracy Score for Decision Tree:0.941400\n",
      "--- 8.25679636001587 seconds ---\n"
     ]
    }
   ],
   "source": [
    "#Hyperparameter tuning done for random forest classifier\n",
    "\n",
    "#RANDOM SEARCH-------------------------------------------- Model1\n",
    "\n",
    "import time\n",
    "start_time = time.time()\n",
    "\n",
    "print(\"RandomizedSearchCV-Random forest\")\n",
    "rand_parameters={'min_samples_leaf' : range(10,300,10),'max_depth': \n",
    "            range(1,10,2),'max_features':[10,20,30],'n_estimators':[20,30,40]}\n",
    "rf_random = RandomizedSearchCV(rf,rand_parameters,n_iter=25,cv=5)\n",
    "rf_random.fit(Xtrain, Ytrain)\n",
    "grid_parm=rf_random.best_params_\n",
    "print(grid_parm)\n",
    "print(\"accuracy Score for Decision Tree:{0:6f}\".\n",
    "      format(rf_random.score(Xtest,Ytest)))\n",
    "\n",
    "print(\"--- %s seconds ---\" % (time.time() - start_time))"
   ]
  },
  {
   "cell_type": "code",
   "execution_count": 35,
   "metadata": {
    "colab": {
     "base_uri": "https://localhost:8080/",
     "height": 90
    },
    "colab_type": "code",
    "id": "3KuuL8qBp0nH",
    "outputId": "986f308f-0de2-45a8-8e64-aa54a4303874"
   },
   "outputs": [
    {
     "name": "stdout",
     "output_type": "stream",
     "text": [
      "GridSearchCV-Random Forest\n",
      "{'max_depth': 5, 'max_features': 30, 'min_samples_leaf': 10, 'n_estimators': 30}\n",
      "accuracy Score for Decision Tree:0.927156\n",
      "--- 514.4113848209381 seconds ---\n"
     ]
    }
   ],
   "source": [
    "#GRID SEARCH----------------------------------------\n",
    "\n",
    "import time\n",
    "start_time = time.time()\n",
    "\n",
    "print(\"GridSearchCV-Random Forest\")\n",
    "rf_grid = GridSearchCV(rf,rand_parameters)\n",
    "rf_grid.fit(Xtrain, Ytrain)\n",
    "grid_parm1=rf_grid.best_params_\n",
    "print(grid_parm1)\n",
    "print(\"accuracy Score for Decision Tree:{0:6f}\".\n",
    "      format(rf_grid.score(Xtest,Ytest)))\n",
    "\n",
    "print(\"--- %s seconds ---\" % (time.time() - start_time))"
   ]
  },
  {
   "cell_type": "code",
   "execution_count": 36,
   "metadata": {
    "colab": {},
    "colab_type": "code",
    "id": "k9BNDnGnp0qq"
   },
   "outputs": [],
   "source": [
    "#Using the parameters obtained from HyperParameterTuning in the RandomForestClassifier \n",
    "rfRand = RandomForestClassifier(**grid_parm)\n",
    "rfGrid = RandomForestClassifier(**grid_parm1)\n",
    "\n",
    "rfRand.fit(Xtrain,Ytrain)\n",
    "rfRand_predict = rfRand.predict(Xtest)\n",
    "rfGrid.fit(Xtrain,Ytrain)\n",
    "rfGrid_predict = rfGrid.predict(Xtest)"
   ]
  },
  {
   "cell_type": "code",
   "execution_count": 37,
   "metadata": {
    "colab": {
     "base_uri": "https://localhost:8080/",
     "height": 326
    },
    "colab_type": "code",
    "id": "6c_c4gbJp0tF",
    "outputId": "3d26a187-394b-4064-d23f-4c12c30de11b"
   },
   "outputs": [
    {
     "name": "stdout",
     "output_type": "stream",
     "text": [
      "Test Accuracy: 0.9365226815296486\n",
      "Confusion Matrix for Decision Tree:\n",
      "[[11984   436]\n",
      " [  384   114]]\n",
      "Printing the precision and recall, among other metrics\n",
      "              precision    recall  f1-score   support\n",
      "\n",
      "          No       0.97      0.96      0.97     12420\n",
      "         Yes       0.21      0.23      0.22       498\n",
      "\n",
      "    accuracy                           0.94     12918\n",
      "   macro avg       0.59      0.60      0.59     12918\n",
      "weighted avg       0.94      0.94      0.94     12918\n",
      "\n",
      "[0.70721154 0.68173077 0.54375    0.5        0.53164557]\n"
     ]
    }
   ],
   "source": [
    "# Accuracy for Random Forest using Random Search CV for Hyperparameter Tuning\n",
    "\n",
    "print(\"Test Accuracy:\", metrics.accuracy_score(Ytest,rfRand_predict))\n",
    "print(\"Confusion Matrix for Decision Tree:\")\n",
    "print(confusion_matrix(Ytest,rfRand_predict))\n",
    "print('Printing the precision and recall, among other metrics')\n",
    "print(metrics.classification_report(Ytest, rfRand_predict))\n",
    "clf_cv_score = cross_val_score(rfRand, Xtrain, Ytrain, cv=5, scoring=\"balanced_accuracy\")\n",
    "print(clf_cv_score)"
   ]
  },
  {
   "cell_type": "code",
   "execution_count": 38,
   "metadata": {
    "colab": {
     "base_uri": "https://localhost:8080/",
     "height": 308
    },
    "colab_type": "code",
    "id": "21bWJZzmp0xg",
    "outputId": "6a8ca2e1-87b6-4a8c-80a7-f7603fd5711e"
   },
   "outputs": [
    {
     "name": "stdout",
     "output_type": "stream",
     "text": [
      "Test Accuracy: 0.9388450224492956\n",
      "Confusion Matrix for Decision Tree:\n",
      "[[12021   399]\n",
      " [  391   107]]\n",
      "Printing the precision and recall, among other metrics\n",
      "              precision    recall  f1-score   support\n",
      "\n",
      "          No       0.97      0.97      0.97     12420\n",
      "         Yes       0.21      0.21      0.21       498\n",
      "\n",
      "    accuracy                           0.94     12918\n",
      "   macro avg       0.59      0.59      0.59     12918\n",
      "weighted avg       0.94      0.94      0.94     12918\n",
      "\n"
     ]
    }
   ],
   "source": [
    "# Accuracy for Random Forest using Grid Search for Hyperparameter Tuning\n",
    "\n",
    "print(\"Test Accuracy:\", metrics.accuracy_score(Ytest,rfGrid_predict))\n",
    "print(\"Confusion Matrix for Decision Tree:\")\n",
    "print(confusion_matrix(Ytest,rfGrid_predict))\n",
    "print('Printing the precision and recall, among other metrics')\n",
    "print(metrics.classification_report(Ytest, rfGrid_predict))"
   ]
  },
  {
   "cell_type": "code",
   "execution_count": 50,
   "metadata": {},
   "outputs": [
    {
     "name": "stdout",
     "output_type": "stream",
     "text": [
      "RandomizedSearchCV-Random forest\n",
      "{'n_estimators': 40, 'min_samples_leaf': 30, 'max_features': 30, 'max_depth': 7}\n",
      "accuracy Score for Decision Tree:0.930098\n",
      "--- 10.084228515625 seconds ---\n"
     ]
    }
   ],
   "source": [
    "#Hyperparameter tuning done for random forest classifier\n",
    "\n",
    "#RANDOM SEARCH-------------------------------------------- Model2\n",
    "\n",
    "import time\n",
    "start_time = time.time()\n",
    "\n",
    "print(\"RandomizedSearchCV-Random forest\")\n",
    "rand_parameters2={'min_samples_leaf' : range(10,150,20),'max_depth': \n",
    "            range(2,20,2),'max_features':[10,20,40],'n_estimators':[10,30,40]}\n",
    "rf_random = RandomizedSearchCV(rf,rand_parameters,n_iter=25,cv=5)\n",
    "rf_random.fit(Xtrain, Ytrain)\n",
    "grid_parm2=rf_random.best_params_\n",
    "print(grid_parm2)\n",
    "print(\"accuracy Score for Decision Tree:{0:6f}\".\n",
    "      format(rf_random.score(Xtest,Ytest)))\n",
    "\n",
    "print(\"--- %s seconds ---\" % (time.time() - start_time))"
   ]
  },
  {
   "cell_type": "code",
   "execution_count": 51,
   "metadata": {},
   "outputs": [
    {
     "name": "stdout",
     "output_type": "stream",
     "text": [
      "GridSearchCV-Random Forest\n",
      "{'max_depth': 8, 'max_features': 40, 'min_samples_leaf': 30, 'n_estimators': 30}\n",
      "accuracy Score for Decision Tree:0.927233\n",
      "--- 232.05560398101807 seconds ---\n"
     ]
    }
   ],
   "source": [
    "#GRID SEARCH----------------------------------------Model2\n",
    "\n",
    "import time\n",
    "start_time = time.time()\n",
    "\n",
    "print(\"GridSearchCV-Random Forest\")\n",
    "rf_grid = GridSearchCV(rf,rand_parameters2)\n",
    "rf_grid.fit(Xtrain, Ytrain)\n",
    "grid_parm3=rf_grid.best_params_\n",
    "print(grid_parm3)\n",
    "print(\"accuracy Score for Decision Tree:{0:6f}\".\n",
    "      format(rf_grid.score(Xtest,Ytest)))\n",
    "\n",
    "print(\"--- %s seconds ---\" % (time.time() - start_time))"
   ]
  },
  {
   "cell_type": "code",
   "execution_count": 52,
   "metadata": {},
   "outputs": [],
   "source": [
    "#Using the parameters obtained from HyperParameterTuning in the RandomForestClassifier \n",
    "rfRand = RandomForestClassifier(**grid_parm2)\n",
    "rfGrid = RandomForestClassifier(**grid_parm3)\n",
    "\n",
    "rfRand.fit(Xtrain,Ytrain)\n",
    "rfRand_predict = rfRand.predict(Xtest)\n",
    "rfGrid.fit(Xtrain,Ytrain)\n",
    "rfGrid_predict = rfGrid.predict(Xtest)"
   ]
  },
  {
   "cell_type": "code",
   "execution_count": 53,
   "metadata": {},
   "outputs": [
    {
     "name": "stdout",
     "output_type": "stream",
     "text": [
      "Test Accuracy: 0.9266914383031429\n",
      "Confusion Matrix for Decision Tree:\n",
      "[[11852   568]\n",
      " [  379   119]]\n",
      "Printing the precision and recall, among other metrics\n",
      "              precision    recall  f1-score   support\n",
      "\n",
      "          No       0.97      0.95      0.96     12420\n",
      "         Yes       0.17      0.24      0.20       498\n",
      "\n",
      "    accuracy                           0.93     12918\n",
      "   macro avg       0.57      0.60      0.58     12918\n",
      "weighted avg       0.94      0.93      0.93     12918\n",
      "\n",
      "[0.75240385 0.64951923 0.54375    0.5        0.55063291]\n"
     ]
    }
   ],
   "source": [
    "# Accuracy for Random Forest using Random Search CV for Hyperparameter Tuning\n",
    "\n",
    "print(\"Test Accuracy:\", metrics.accuracy_score(Ytest,rfRand_predict))\n",
    "print(\"Confusion Matrix for Decision Tree:\")\n",
    "print(confusion_matrix(Ytest,rfRand_predict))\n",
    "print('Printing the precision and recall, among other metrics')\n",
    "print(metrics.classification_report(Ytest, rfRand_predict))\n",
    "clf_cv_score = cross_val_score(rfRand, Xtrain, Ytrain, cv=5, scoring=\"balanced_accuracy\")\n",
    "print(clf_cv_score)"
   ]
  },
  {
   "cell_type": "code",
   "execution_count": 54,
   "metadata": {},
   "outputs": [
    {
     "name": "stdout",
     "output_type": "stream",
     "text": [
      "Test Accuracy: 0.9278526087629664\n",
      "Confusion Matrix for Decision Tree:\n",
      "[[11867   553]\n",
      " [  379   119]]\n",
      "Printing the precision and recall, among other metrics\n",
      "              precision    recall  f1-score   support\n",
      "\n",
      "          No       0.97      0.96      0.96     12420\n",
      "         Yes       0.18      0.24      0.20       498\n",
      "\n",
      "    accuracy                           0.93     12918\n",
      "   macro avg       0.57      0.60      0.58     12918\n",
      "weighted avg       0.94      0.93      0.93     12918\n",
      "\n"
     ]
    }
   ],
   "source": [
    "# Accuracy for Random Forest using Grid Search for Hyperparameter Tuning\n",
    "\n",
    "print(\"Test Accuracy:\", metrics.accuracy_score(Ytest,rfGrid_predict))\n",
    "print(\"Confusion Matrix for Decision Tree:\")\n",
    "print(confusion_matrix(Ytest,rfGrid_predict))\n",
    "print('Printing the precision and recall, among other metrics')\n",
    "print(metrics.classification_report(Ytest, rfGrid_predict))"
   ]
  },
  {
   "cell_type": "code",
   "execution_count": 55,
   "metadata": {},
   "outputs": [
    {
     "name": "stdout",
     "output_type": "stream",
     "text": [
      "RandomizedSearchCV-Random forest\n",
      "{'n_estimators': 10, 'min_samples_leaf': 30, 'max_features': 40, 'max_depth': 18}\n",
      "accuracy Score for Decision Tree:0.934123\n",
      "--- 9.24172306060791 seconds ---\n"
     ]
    }
   ],
   "source": [
    "#Hyperparameter tuning done for random forest classifier\n",
    "\n",
    "#RANDOM SEARCH-------------------------------------------- Model3\n",
    "\n",
    "import time\n",
    "start_time = time.time()\n",
    "\n",
    "print(\"RandomizedSearchCV-Random forest\")\n",
    "rand_parameters3={'min_samples_leaf' : range(10,150,20),'max_depth': \n",
    "            range(2,20,2),'max_features':[10,20,40],'n_estimators':[10,30,40]}\n",
    "rf_random = RandomizedSearchCV(rf,rand_parameters3,n_iter=25,cv=5)\n",
    "rf_random.fit(Xtrain, Ytrain)\n",
    "grid_parm4=rf_random.best_params_\n",
    "print(grid_parm4)\n",
    "print(\"accuracy Score for Decision Tree:{0:6f}\".\n",
    "      format(rf_random.score(Xtest,Ytest)))\n",
    "\n",
    "print(\"--- %s seconds ---\" % (time.time() - start_time))"
   ]
  },
  {
   "cell_type": "code",
   "execution_count": 56,
   "metadata": {},
   "outputs": [
    {
     "name": "stdout",
     "output_type": "stream",
     "text": [
      "GridSearchCV-Random Forest\n",
      "{'max_depth': 14, 'max_features': 40, 'min_samples_leaf': 30, 'n_estimators': 10}\n",
      "accuracy Score for Decision Tree:0.926769\n",
      "--- 257.343359708786 seconds ---\n"
     ]
    }
   ],
   "source": [
    "#GRID SEARCH----------------------------------------Model3\n",
    "\n",
    "import time\n",
    "start_time = time.time()\n",
    "\n",
    "print(\"GridSearchCV-Random Forest\")\n",
    "rf_grid = GridSearchCV(rf,rand_parameters3)\n",
    "rf_grid.fit(Xtrain, Ytrain)\n",
    "grid_parm5=rf_grid.best_params_\n",
    "print(grid_parm5)\n",
    "print(\"accuracy Score for Decision Tree:{0:6f}\".\n",
    "      format(rf_grid.score(Xtest,Ytest)))\n",
    "\n",
    "print(\"--- %s seconds ---\" % (time.time() - start_time))"
   ]
  },
  {
   "cell_type": "code",
   "execution_count": 57,
   "metadata": {},
   "outputs": [],
   "source": [
    "#Using the parameters obtained from HyperParameterTuning in the RandomForestClassifier \n",
    "rfRand = RandomForestClassifier(**grid_parm4)\n",
    "rfGrid = RandomForestClassifier(**grid_parm5)\n",
    "\n",
    "rfRand.fit(Xtrain,Ytrain)\n",
    "rfRand_predict = rfRand.predict(Xtest)\n",
    "rfGrid.fit(Xtrain,Ytrain)\n",
    "rfGrid_predict = rfGrid.predict(Xtest)"
   ]
  },
  {
   "cell_type": "code",
   "execution_count": 58,
   "metadata": {},
   "outputs": [
    {
     "name": "stdout",
     "output_type": "stream",
     "text": [
      "Test Accuracy: 0.9281622542189193\n",
      "Confusion Matrix for Decision Tree:\n",
      "[[11873   547]\n",
      " [  381   117]]\n",
      "Printing the precision and recall, among other metrics\n",
      "              precision    recall  f1-score   support\n",
      "\n",
      "          No       0.97      0.96      0.96     12420\n",
      "         Yes       0.18      0.23      0.20       498\n",
      "\n",
      "    accuracy                           0.93     12918\n",
      "   macro avg       0.57      0.60      0.58     12918\n",
      "weighted avg       0.94      0.93      0.93     12918\n",
      "\n",
      "[0.77115385 0.67451923 0.54375    0.5        0.55696203]\n"
     ]
    }
   ],
   "source": [
    "# Accuracy for Random Forest using Random Search CV for Hyperparameter Tuning\n",
    "\n",
    "print(\"Test Accuracy:\", metrics.accuracy_score(Ytest,rfRand_predict))\n",
    "print(\"Confusion Matrix for Decision Tree:\")\n",
    "print(confusion_matrix(Ytest,rfRand_predict))\n",
    "print('Printing the precision and recall, among other metrics')\n",
    "print(metrics.classification_report(Ytest, rfRand_predict))\n",
    "clf_cv_score = cross_val_score(rfRand, Xtrain, Ytrain, cv=5, scoring=\"balanced_accuracy\")\n",
    "print(clf_cv_score)"
   ]
  },
  {
   "cell_type": "code",
   "execution_count": 59,
   "metadata": {},
   "outputs": [
    {
     "name": "stdout",
     "output_type": "stream",
     "text": [
      "Test Accuracy: 0.92638179284719\n",
      "Confusion Matrix for Decision Tree:\n",
      "[[11848   572]\n",
      " [  379   119]]\n",
      "Printing the precision and recall, among other metrics\n",
      "              precision    recall  f1-score   support\n",
      "\n",
      "          No       0.97      0.95      0.96     12420\n",
      "         Yes       0.17      0.24      0.20       498\n",
      "\n",
      "    accuracy                           0.93     12918\n",
      "   macro avg       0.57      0.60      0.58     12918\n",
      "weighted avg       0.94      0.93      0.93     12918\n",
      "\n"
     ]
    }
   ],
   "source": [
    "# Accuracy for Random Forest using Grid Search for Hyperparameter Tuning\n",
    "\n",
    "print(\"Test Accuracy:\", metrics.accuracy_score(Ytest,rfGrid_predict))\n",
    "print(\"Confusion Matrix for Decision Tree:\")\n",
    "print(confusion_matrix(Ytest,rfGrid_predict))\n",
    "print('Printing the precision and recall, among other metrics')\n",
    "print(metrics.classification_report(Ytest, rfGrid_predict))"
   ]
  }
 ],
 "metadata": {
  "accelerator": "GPU",
  "colab": {
   "collapsed_sections": [],
   "name": "Exercise_2_revamped.ipynb",
   "provenance": []
  },
  "kernelspec": {
   "display_name": "Python 3 (ipykernel)",
   "language": "python",
   "name": "python3"
  },
  "language_info": {
   "codemirror_mode": {
    "name": "ipython",
    "version": 3
   },
   "file_extension": ".py",
   "mimetype": "text/x-python",
   "name": "python",
   "nbconvert_exporter": "python",
   "pygments_lexer": "ipython3",
   "version": "3.9.12"
  }
 },
 "nbformat": 4,
 "nbformat_minor": 1
}
